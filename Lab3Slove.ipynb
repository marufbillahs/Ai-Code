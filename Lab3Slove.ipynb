{
 "cells": [
  {
   "cell_type": "code",
   "execution_count": 1,
   "metadata": {},
   "outputs": [
    {
     "name": "stdout",
     "output_type": "stream",
     "text": [
      "[40, 50, 60, 0, 0, 0]\n"
     ]
    }
   ],
   "source": [
    "def shiftLeft(source, k):\n",
    "    n = len(source)\n",
    "    \n",
    "    # Shift the elements to the left by k positions\n",
    "    for i in range(k, n):\n",
    "        source[i - k] = source[i]\n",
    "    \n",
    "    # Fill the remaining positions with 0\n",
    "    for i in range(n - k, n):\n",
    "        source[i] = 0\n",
    "    \n",
    "    # Print the updated array\n",
    "    print(source)\n",
    "\n",
    "# Test case\n",
    "source = [10, 20, 30, 40, 50, 60]\n",
    "shiftLeft(source, 3)\n"
   ]
  },
  {
   "cell_type": "code",
   "execution_count": 2,
   "metadata": {},
   "outputs": [
    {
     "name": "stdout",
     "output_type": "stream",
     "text": [
      "[40, 50, 60, 10, 20, 30]\n"
     ]
    }
   ],
   "source": [
    "def rotateLeft(source, k):\n",
    "    n = len(source)\n",
    "    \n",
    "    # Ensure k is within the range of the array size\n",
    "    k = k % n\n",
    "    \n",
    "    # Rotate the elements to the left by k positions\n",
    "    rotated_array = source[k:] + source[:k]\n",
    "    \n",
    "    # Update the source array with rotated elements\n",
    "    for i in range(n):\n",
    "        source[i] = rotated_array[i]\n",
    "    \n",
    "    # Print the updated array\n",
    "    print(source)\n",
    "\n",
    "# Test case\n",
    "source = [10, 20, 30, 40, 50, 60]\n",
    "rotateLeft(source, 3)\n"
   ]
  },
  {
   "cell_type": "code",
   "execution_count": 3,
   "metadata": {},
   "outputs": [
    {
     "name": "stdout",
     "output_type": "stream",
     "text": [
      "[10, 20, 40, 50, 0, 0, 0]\n"
     ]
    }
   ],
   "source": [
    "def remove(source, size, idx):\n",
    "    # Check if the index is valid\n",
    "    if idx < 0 or idx >= size:\n",
    "        print(\"Index out of range\")\n",
    "        return\n",
    "    \n",
    "    # Remove the element at the specified index\n",
    "    for i in range(idx, size - 1):\n",
    "        source[i] = source[i + 1]\n",
    "    \n",
    "    # Fill the last position with 0\n",
    "    source[size - 1] = 0\n",
    "    \n",
    "    # Print the updated array\n",
    "    print(source)\n",
    "\n",
    "# Test case\n",
    "source = [10, 20, 30, 40, 50, 0, 0]\n",
    "remove(source, 5, 2)\n"
   ]
  },
  {
   "cell_type": "code",
   "execution_count": 1,
   "metadata": {},
   "outputs": [
    {
     "name": "stdout",
     "output_type": "stream",
     "text": [
      "[10, 30, 50, 0, 0, 0, 0, 0, 0]\n"
     ]
    }
   ],
   "source": [
    "def removeAll(source, size, element):\n",
    "    # Iterate through the array and remove all occurrences of the element\n",
    "    i = 0\n",
    "    while i < size:\n",
    "        if source[i] == element:\n",
    "            # Shift elements to the left to overwrite occurrences of the element\n",
    "            for j in range(i, size - 1):\n",
    "                source[j] = source[j + 1]\n",
    "            size -= 1  # Reduce the size of the array\n",
    "        else:\n",
    "            i += 1  # Move to the next element\n",
    "        \n",
    "    # Fill the remaining positions with 0\n",
    "    for i in range(size, len(source)):\n",
    "        source[i] = 0\n",
    "    \n",
    "    # Print the updated array\n",
    "    print(source)\n",
    "\n",
    "# Test case\n",
    "source = [10, 2, 30, 2, 50, 2, 2, 0, 0]\n",
    "removeAll(source, 7, 2)\n"
   ]
  }
 ],
 "metadata": {
  "kernelspec": {
   "display_name": "base",
   "language": "python",
   "name": "python3"
  },
  "language_info": {
   "codemirror_mode": {
    "name": "ipython",
    "version": 3
   },
   "file_extension": ".py",
   "mimetype": "text/x-python",
   "name": "python",
   "nbconvert_exporter": "python",
   "pygments_lexer": "ipython3",
   "version": "3.11.5"
  }
 },
 "nbformat": 4,
 "nbformat_minor": 2
}
